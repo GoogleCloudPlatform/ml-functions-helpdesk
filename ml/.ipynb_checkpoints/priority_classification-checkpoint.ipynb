{
 "cells": [
  {
   "cell_type": "code",
   "execution_count": 1,
   "metadata": {},
   "outputs": [],
   "source": [
    "from __future__ import division\n",
    "import os, hashlib, math\n",
    "import numpy as np\n",
    "import pandas as pd\n",
    "\n",
    "import sklearn.metrics as metrics\n",
    "import seaborn as sns\n",
    "import matplotlib.pyplot as plt\n",
    "\n",
    "import google.datalab.contrib.mlworkbench.commands\n",
    "import google.datalab.ml as ml"
   ]
  },
  {
   "cell_type": "markdown",
   "metadata": {},
   "source": [
    "This Notebook shows you how to perform the basic steps in order to build, train and deploy a model on Google Cloud Platform using ML Toolbox\n",
    "\n",
    "1. Collect data\n",
    "2. Organize data\n",
    "3. Design the model\n",
    "4. Train and generate the model\n",
    "5. Deploy the model\n",
    "\n",
    "Note that we will build, train and deploy our model on this machine only as our dataset is small enough and a model created locally can still be deployed on Google ML Engine."
   ]
  },
  {
   "cell_type": "code",
   "execution_count": 2,
   "metadata": {
    "collapsed": true
   },
   "outputs": [],
   "source": [
    "CSV_FILE = \"issues.csv\""
   ]
  },
  {
   "cell_type": "markdown",
   "metadata": {},
   "source": [
    "# 1 of 7 - Collect data\n",
    "In a use case like this, data can be collected in different ways usually through dump of your database or export from your CRM into CSV. \n",
    "\n",
    "The data that we have collected is available on Google Cloud Storage as gs://solutions-public-assets/smartenup-helpdesk/ml/data.csv (public dataset).\n",
    "\n",
    "Note that in some cases, data might be saved in BigQuery (which is both a storage and queryuing engine) which is perfectly fine and would actually facilitate the filtering of the data specially with big datasets."
   ]
  },
  {
   "cell_type": "code",
   "execution_count": 3,
   "metadata": {},
   "outputs": [
    {
     "name": "stdout",
     "output_type": "stream",
     "text": [
      "Copying gs://solutions-public-assets/smartenup-helpdesk/ml/issues.csv...\n",
      "\\ [1 files][  6.5 MiB/  6.5 MiB]                                                \n",
      "Operation completed over 1 objects/6.5 MiB.                                      \n"
     ]
    }
   ],
   "source": [
    "# Copy data from the cloud to this instance\n",
    "!gsutil cp gs://solutions-public-assets/smartenup-helpdesk/ml/issues.csv $CSV_FILE"
   ]
  },
  {
   "cell_type": "code",
   "execution_count": 4,
   "metadata": {},
   "outputs": [
    {
     "name": "stdout",
     "output_type": "stream",
     "text": [
      "100000 rows\n"
     ]
    },
    {
     "data": {
      "text/html": [
       "<div>\n",
       "<table border=\"1\" class=\"dataframe\">\n",
       "  <thead>\n",
       "    <tr style=\"text-align: right;\">\n",
       "      <th></th>\n",
       "      <th>ticketid</th>\n",
       "      <th>contactid</th>\n",
       "      <th>seniority</th>\n",
       "      <th>experience</th>\n",
       "      <th>category</th>\n",
       "      <th>type</th>\n",
       "      <th>impact</th>\n",
       "      <th>priority</th>\n",
       "      <th>resolutiontime</th>\n",
       "    </tr>\n",
       "  </thead>\n",
       "  <tbody>\n",
       "    <tr>\n",
       "      <th>0</th>\n",
       "      <td>t0</td>\n",
       "      <td>Patrick Blevins</td>\n",
       "      <td>12</td>\n",
       "      <td>3-Advanced</td>\n",
       "      <td>Performance</td>\n",
       "      <td>Request</td>\n",
       "      <td>4-Critical</td>\n",
       "      <td>P1</td>\n",
       "      <td>5</td>\n",
       "    </tr>\n",
       "    <tr>\n",
       "      <th>1</th>\n",
       "      <td>t1</td>\n",
       "      <td>Kaitlyn Ruiz</td>\n",
       "      <td>3</td>\n",
       "      <td>2-Experienced</td>\n",
       "      <td>Technical</td>\n",
       "      <td>Issue</td>\n",
       "      <td>1-Minor</td>\n",
       "      <td>P4</td>\n",
       "      <td>6</td>\n",
       "    </tr>\n",
       "    <tr>\n",
       "      <th>2</th>\n",
       "      <td>t2</td>\n",
       "      <td>Chelsea Martin</td>\n",
       "      <td>11</td>\n",
       "      <td>2-Experienced</td>\n",
       "      <td>Technical</td>\n",
       "      <td>Request</td>\n",
       "      <td>4-Critical</td>\n",
       "      <td>P1</td>\n",
       "      <td>2</td>\n",
       "    </tr>\n",
       "    <tr>\n",
       "      <th>3</th>\n",
       "      <td>t3</td>\n",
       "      <td>Richard Arnold</td>\n",
       "      <td>8</td>\n",
       "      <td>2-Experienced</td>\n",
       "      <td>Performance</td>\n",
       "      <td>Request</td>\n",
       "      <td>1-Minor</td>\n",
       "      <td>P3</td>\n",
       "      <td>5</td>\n",
       "    </tr>\n",
       "    <tr>\n",
       "      <th>4</th>\n",
       "      <td>t4</td>\n",
       "      <td>Kelly Jackson</td>\n",
       "      <td>7</td>\n",
       "      <td>4-Trainer</td>\n",
       "      <td>Billing</td>\n",
       "      <td>Request</td>\n",
       "      <td>0-Unclassified</td>\n",
       "      <td>P4</td>\n",
       "      <td>3</td>\n",
       "    </tr>\n",
       "  </tbody>\n",
       "</table>\n",
       "</div>"
      ],
      "text/plain": [
       "  ticketid        contactid seniority     experience     category     type  \\\n",
       "0       t0  Patrick Blevins        12     3-Advanced  Performance  Request   \n",
       "1       t1     Kaitlyn Ruiz         3  2-Experienced    Technical    Issue   \n",
       "2       t2   Chelsea Martin        11  2-Experienced    Technical  Request   \n",
       "3       t3   Richard Arnold         8  2-Experienced  Performance  Request   \n",
       "4       t4    Kelly Jackson         7      4-Trainer      Billing  Request   \n",
       "\n",
       "           impact priority resolutiontime  \n",
       "0      4-Critical       P1              5  \n",
       "1         1-Minor       P4              6  \n",
       "2      4-Critical       P1              2  \n",
       "3         1-Minor       P3              5  \n",
       "4  0-Unclassified       P4              3  "
      ]
     },
     "execution_count": 4,
     "metadata": {},
     "output_type": "execute_result"
    }
   ],
   "source": [
    "# Read data from csv into a Panda dataframe\n",
    "df_data = pd.read_csv(CSV_FILE, dtype=str)\n",
    "print '%d rows' % len(df_data)\n",
    "df_data.head()"
   ]
  },
  {
   "cell_type": "markdown",
   "metadata": {},
   "source": [
    "We need to make sure that we do not have any duplicate. If that was the case some identical rows could be found in the training set and validation set for example which would have an impact on the model training (remember, validation and training set can't overlap)"
   ]
  },
  {
   "cell_type": "code",
   "execution_count": 5,
   "metadata": {},
   "outputs": [
    {
     "name": "stdout",
     "output_type": "stream",
     "text": [
      "99993 rows\n"
     ]
    }
   ],
   "source": [
    "df_data = df_data.drop_duplicates(df_data.columns.difference(['ticketid']))\n",
    "print '%d rows' % len(df_data)"
   ]
  },
  {
   "cell_type": "markdown",
   "metadata": {},
   "source": [
    "# 2 of 7 - Organize data"
   ]
  },
  {
   "cell_type": "markdown",
   "metadata": {},
   "source": [
    "## Filter data\n",
    "\n",
    "We keep only the columns that we are interested and discard some others:\n",
    "- ownerid because we won't know its value when doing a prediction\n",
    "- priority as it is a value that we will predict in another Notebook\n",
    "- statisfaction as it is not a value that we know when doing a prediction. It might also be a value we woud like to predict later"
   ]
  },
  {
   "cell_type": "code",
   "execution_count": 6,
   "metadata": {},
   "outputs": [
    {
     "name": "stdout",
     "output_type": "stream",
     "text": [
      "99993 rows\n"
     ]
    },
    {
     "data": {
      "text/html": [
       "<div>\n",
       "<table border=\"1\" class=\"dataframe\">\n",
       "  <thead>\n",
       "    <tr style=\"text-align: right;\">\n",
       "      <th></th>\n",
       "      <th>ticketid</th>\n",
       "      <th>seniority</th>\n",
       "      <th>experience</th>\n",
       "      <th>category</th>\n",
       "      <th>type</th>\n",
       "      <th>impact</th>\n",
       "      <th>priority</th>\n",
       "    </tr>\n",
       "  </thead>\n",
       "  <tbody>\n",
       "    <tr>\n",
       "      <th>0</th>\n",
       "      <td>t0</td>\n",
       "      <td>12</td>\n",
       "      <td>3-Advanced</td>\n",
       "      <td>Performance</td>\n",
       "      <td>Request</td>\n",
       "      <td>4-Critical</td>\n",
       "      <td>P1</td>\n",
       "    </tr>\n",
       "    <tr>\n",
       "      <th>1</th>\n",
       "      <td>t1</td>\n",
       "      <td>3</td>\n",
       "      <td>2-Experienced</td>\n",
       "      <td>Technical</td>\n",
       "      <td>Issue</td>\n",
       "      <td>1-Minor</td>\n",
       "      <td>P4</td>\n",
       "    </tr>\n",
       "    <tr>\n",
       "      <th>2</th>\n",
       "      <td>t2</td>\n",
       "      <td>11</td>\n",
       "      <td>2-Experienced</td>\n",
       "      <td>Technical</td>\n",
       "      <td>Request</td>\n",
       "      <td>4-Critical</td>\n",
       "      <td>P1</td>\n",
       "    </tr>\n",
       "    <tr>\n",
       "      <th>3</th>\n",
       "      <td>t3</td>\n",
       "      <td>8</td>\n",
       "      <td>2-Experienced</td>\n",
       "      <td>Performance</td>\n",
       "      <td>Request</td>\n",
       "      <td>1-Minor</td>\n",
       "      <td>P3</td>\n",
       "    </tr>\n",
       "    <tr>\n",
       "      <th>4</th>\n",
       "      <td>t4</td>\n",
       "      <td>7</td>\n",
       "      <td>4-Trainer</td>\n",
       "      <td>Billing</td>\n",
       "      <td>Request</td>\n",
       "      <td>0-Unclassified</td>\n",
       "      <td>P4</td>\n",
       "    </tr>\n",
       "  </tbody>\n",
       "</table>\n",
       "</div>"
      ],
      "text/plain": [
       "  ticketid seniority     experience     category     type          impact  \\\n",
       "0       t0        12     3-Advanced  Performance  Request      4-Critical   \n",
       "1       t1         3  2-Experienced    Technical    Issue         1-Minor   \n",
       "2       t2        11  2-Experienced    Technical  Request      4-Critical   \n",
       "3       t3         8  2-Experienced  Performance  Request         1-Minor   \n",
       "4       t4         7      4-Trainer      Billing  Request  0-Unclassified   \n",
       "\n",
       "  priority  \n",
       "0       P1  \n",
       "1       P4  \n",
       "2       P1  \n",
       "3       P3  \n",
       "4       P4  "
      ]
     },
     "execution_count": 6,
     "metadata": {},
     "output_type": "execute_result"
    }
   ],
   "source": [
    "def transform_data(df):\n",
    "    # Lists the column names that we want to keep from our dataframe. \n",
    "    interesting_columns = ['ticketid', 'seniority', 'experience', 'category', 'type', 'impact', 'priority']\n",
    "    \n",
    "    # Filters the dataframe to keep only the relevant data and return the dataframe.\n",
    "    df = df[interesting_columns]\n",
    "    return df\n",
    "  \n",
    "df_data = transform_data(df_data)\n",
    "# Displays the new dataframe.\n",
    "print '%d rows' % len(df_data)\n",
    "df_data.head()"
   ]
  },
  {
   "cell_type": "markdown",
   "metadata": {},
   "source": [
    "## Create datasets\n",
    "Here we create training and test datasets on a 80/20 basis. To keep consistency for every load of data we use a column that follows these two requirements:\n",
    "- Is a unique identifer for each row\n",
    "- Will not be used as a training input\n",
    "\n",
    "ticketid is a good candidate"
   ]
  },
  {
   "cell_type": "code",
   "execution_count": 7,
   "metadata": {
    "collapsed": true
   },
   "outputs": [],
   "source": [
    "def is_test_set(identifier, test_ratio, hash):\n",
    "    h = int(hash(identifier.encode('ascii')).hexdigest()[-7:], 16)\n",
    "    return (h/0xFFFFFFF) < test_ratio\n",
    "    \n",
    "def create_datasets(df, id_column, test_ratio=0.2, hash=hashlib.md5):\n",
    "    ids = df[id_column]\n",
    "    ids_test_set = ids.apply(lambda x: is_test_set(x, test_ratio, hash))\n",
    "    return df.loc[~ids_test_set], df.loc[ids_test_set]\n",
    "\n",
    "df_train, df_eval = create_datasets(df_data, 'ticketid')"
   ]
  },
  {
   "cell_type": "code",
   "execution_count": 8,
   "metadata": {
    "collapsed": true
   },
   "outputs": [],
   "source": [
    "# Set paths for CSV datasets\n",
    "training_data_path = 'train.csv'\n",
    "test_data_path = 'eval.csv'\n",
    "\n",
    "# Write Panda Dataframes to CSV files\n",
    "df_train.to_csv(training_data_path, header=False, index=False)\n",
    "df_eval.to_csv(test_data_path, header=False, index=False)"
   ]
  },
  {
   "cell_type": "markdown",
   "metadata": {},
   "source": [
    "## Explore\n",
    "One of the most important part of Machine Learning is to explore the data before building a model. A few things will help improving your model quality such as\n",
    "- Normalization\n",
    "- Look at feature correlation\n",
    "- Feature crossing\n",
    "- ...\n",
    "\n",
    "Because the main goal of this Notebook and solution is to show how to build and deploy a model for serverless enrichment, we won't spend too much time here (also because the provided dataset is fake) but keep in mind that this is not a part that should be ignored in a real world example."
   ]
  },
  {
   "cell_type": "markdown",
   "metadata": {},
   "source": [
    "One important thing in Classification though is to have a balanced set of Labels. "
   ]
  },
  {
   "cell_type": "code",
   "execution_count": 9,
   "metadata": {},
   "outputs": [
    {
     "name": "stdout",
     "output_type": "stream",
     "text": [
      "Training set:\n",
      "P1    20099\n",
      "P3    20060\n",
      "P4    20019\n",
      "P2    19962\n",
      "Name: priority, dtype: int64\n"
     ]
    }
   ],
   "source": [
    "print \"Training set:\\n{}\".format(df_train.priority.value_counts())"
   ]
  },
  {
   "cell_type": "code",
   "execution_count": 10,
   "metadata": {},
   "outputs": [
    {
     "name": "stdout",
     "output_type": "stream",
     "text": [
      "Eval set:\n",
      "P2    5037\n",
      "P4    4979\n",
      "P3    4939\n",
      "P1    4898\n",
      "Name: priority, dtype: int64\n"
     ]
    }
   ],
   "source": [
    "print \"Eval set:\\n{}\".format(df_eval.priority.value_counts())"
   ]
  },
  {
   "cell_type": "markdown",
   "metadata": {},
   "source": [
    "# 3 of 7: Analyse\n",
    "ML Workbench comes with a pre-buit function that analyzes training data and generate stats, such as min/max/mean for numeric values, vocabulary for text columns. Note that if cloud is set to True, the function leverages BigQuery making the switch from small dataset to big data seamless."
   ]
  },
  {
   "cell_type": "code",
   "execution_count": 11,
   "metadata": {
    "collapsed": true
   },
   "outputs": [],
   "source": [
    "!rm -rf analysis"
   ]
  },
  {
   "cell_type": "code",
   "execution_count": 12,
   "metadata": {},
   "outputs": [
    {
     "name": "stdout",
     "output_type": "stream",
     "text": [
      "Expanding any file patterns...\n",
      "file list computed.\n",
      "Analyzing file /content/datalab/notebooks/sapaper-helpdesk/priority_classification/train.csv...\n",
      "file /content/datalab/notebooks/sapaper-helpdesk/priority_classification/train.csv analyzed.\n"
     ]
    }
   ],
   "source": [
    "%%ml analyze --output analysis\n",
    "training_data:\n",
    "  csv: train.csv\n",
    "  schema:\n",
    "    - name: ticketid\n",
    "      type: STRING\n",
    "    - name: seniority\n",
    "      type: FLOAT\n",
    "    - name: experience\n",
    "      type: STRING\n",
    "    - name: category\n",
    "      type: STRING\n",
    "    - name: type\n",
    "      type: STRING\n",
    "    - name: impact\n",
    "      type: STRING\n",
    "    - name: priority\n",
    "      type: STRING\n",
    "features:\n",
    "  ticketid: \n",
    "    transform: key\n",
    "  seniority:\n",
    "    transform: identity\n",
    "  experience:\n",
    "    transform: one_hot\n",
    "  category:\n",
    "    transform: one_hot\n",
    "  type:\n",
    "    transform: one_hot\n",
    "  impact:\n",
    "    transform: one_hot\n",
    "  priority:\n",
    "    transform: target\n"
   ]
  },
  {
   "cell_type": "markdown",
   "metadata": {},
   "source": [
    "# 4 of 7: Transform\n",
    "This section is optional but can be an important step when dealing with big data. While the Analysis phase provides enough details for the training step to append, the transform phase creates tfRecord files which is required for Tensorflow processing. Doing it now make sure that the training step can start from the preprocessed data and does not have to do this for each row for every pass of the data which is not recommended when handling text or image data."
   ]
  },
  {
   "cell_type": "code",
   "execution_count": 13,
   "metadata": {
    "collapsed": true
   },
   "outputs": [],
   "source": [
    "!rm -rf transform"
   ]
  },
  {
   "cell_type": "code",
   "execution_count": 14,
   "metadata": {},
   "outputs": [
    {
     "name": "stdout",
     "output_type": "stream",
     "text": [
      "2017-10-24 10:50:17.199230: W tensorflow/core/platform/cpu_feature_guard.cc:45] The TensorFlow library wasn't compiled to use SSE4.1 instructions, but these are available on your machine and could speed up CPU computations.\n",
      "2017-10-24 10:50:17.199548: W tensorflow/core/platform/cpu_feature_guard.cc:45] The TensorFlow library wasn't compiled to use SSE4.2 instructions, but these are available on your machine and could speed up CPU computations.\n",
      "2017-10-24 10:50:17.199673: W tensorflow/core/platform/cpu_feature_guard.cc:45] The TensorFlow library wasn't compiled to use AVX instructions, but these are available on your machine and could speed up CPU computations.\n",
      "2017-10-24 10:50:17.199716: W tensorflow/core/platform/cpu_feature_guard.cc:45] The TensorFlow library wasn't compiled to use AVX2 instructions, but these are available on your machine and could speed up CPU computations.\n",
      "2017-10-24 10:50:17.199722: W tensorflow/core/platform/cpu_feature_guard.cc:45] The TensorFlow library wasn't compiled to use FMA instructions, but these are available on your machine and could speed up CPU computations.\n",
      "WARNING:root:Couldn't find python-snappy so the implementation of _TFRecordUtil._masked_crc32c is not as fast as it could be.\n"
     ]
    }
   ],
   "source": [
    "%%ml transform --output transform --analysis analysis\n",
    "prefix: train\n",
    "training_data:\n",
    "  csv: train.csv\n",
    "  schema:\n",
    "    - name: ticketid\n",
    "      type: STRING\n",
    "    - name: seniority\n",
    "      type: FLOAT\n",
    "    - name: experience\n",
    "      type: STRING\n",
    "    - name: category\n",
    "      type: STRING\n",
    "    - name: type\n",
    "      type: STRING\n",
    "    - name: impact\n",
    "      type: STRING\n",
    "    - name: priority\n",
    "      type: STRING"
   ]
  },
  {
   "cell_type": "code",
   "execution_count": 15,
   "metadata": {},
   "outputs": [
    {
     "name": "stdout",
     "output_type": "stream",
     "text": [
      "2017-10-24 10:50:49.733806: W tensorflow/core/platform/cpu_feature_guard.cc:45] The TensorFlow library wasn't compiled to use SSE4.1 instructions, but these are available on your machine and could speed up CPU computations.\n",
      "2017-10-24 10:50:49.734154: W tensorflow/core/platform/cpu_feature_guard.cc:45] The TensorFlow library wasn't compiled to use SSE4.2 instructions, but these are available on your machine and could speed up CPU computations.\n",
      "2017-10-24 10:50:49.734201: W tensorflow/core/platform/cpu_feature_guard.cc:45] The TensorFlow library wasn't compiled to use AVX instructions, but these are available on your machine and could speed up CPU computations.\n",
      "2017-10-24 10:50:49.734208: W tensorflow/core/platform/cpu_feature_guard.cc:45] The TensorFlow library wasn't compiled to use AVX2 instructions, but these are available on your machine and could speed up CPU computations.\n",
      "2017-10-24 10:50:49.734213: W tensorflow/core/platform/cpu_feature_guard.cc:45] The TensorFlow library wasn't compiled to use FMA instructions, but these are available on your machine and could speed up CPU computations.\n",
      "WARNING:root:Couldn't find python-snappy so the implementation of _TFRecordUtil._masked_crc32c is not as fast as it could be.\n"
     ]
    }
   ],
   "source": [
    "%%ml transform --output transform --analysis analysis\n",
    "prefix: eval\n",
    "training_data:\n",
    "  csv: eval.csv\n",
    "  schema:\n",
    "    - name: ticketid\n",
    "      type: STRING\n",
    "    - name: seniority\n",
    "      type: FLOAT\n",
    "    - name: experience\n",
    "      type: STRING\n",
    "    - name: category\n",
    "      type: STRING\n",
    "    - name: type\n",
    "      type: STRING\n",
    "    - name: impact\n",
    "      type: STRING\n",
    "    - name: priority\n",
    "      type: STRING"
   ]
  },
  {
   "cell_type": "markdown",
   "metadata": {},
   "source": [
    "# 5 of 7 Train\n",
    "This steps leverages Tensorflow canned models in the background without you having to write any code."
   ]
  },
  {
   "cell_type": "code",
   "execution_count": 16,
   "metadata": {
    "collapsed": true
   },
   "outputs": [],
   "source": [
    "!rm -rf train"
   ]
  },
  {
   "cell_type": "code",
   "execution_count": 17,
   "metadata": {},
   "outputs": [
    {
     "name": "stdout",
     "output_type": "stream",
     "text": [
      "INFO:tensorflow:Using config: {'_save_checkpoints_secs': 300, '_num_ps_replicas': 0, '_keep_checkpoint_max': 5, '_task_type': None, '_is_chief': True, '_cluster_spec': <tensorflow.python.training.server_lib.ClusterSpec object at 0x7f2425050f50>, '_model_dir': '/content/datalab/notebooks/sapaper-helpdesk/priority_classification/train/train', '_save_checkpoints_steps': None, '_keep_checkpoint_every_n_hours': 10000, '_session_config': None, '_tf_random_seed': None, '_environment': 'local', '_num_worker_replicas': 0, '_task_id': 0, '_save_summary_steps': 100, '_tf_config': gpu_options {\n",
      "  per_process_gpu_memory_fraction: 1.0\n",
      "}\n",
      ", '_evaluation_master': '', '_master': ''}\n",
      "WARNING:tensorflow:From /usr/local/lib/python2.7/dist-packages/tensorflow/contrib/learn/python/learn/monitors.py:268: __init__ (from tensorflow.contrib.learn.python.learn.monitors) is deprecated and will be removed after 2016-12-05.\n",
      "Instructions for updating:\n",
      "Monitors are deprecated. Please use tf.train.SessionRunHook.\n",
      "WARNING:tensorflow:From /usr/local/lib/python2.7/dist-packages/tensorflow/contrib/learn/python/learn/estimators/head.py:625: scalar_summary (from tensorflow.python.ops.logging_ops) is deprecated and will be removed after 2016-11-30.\n",
      "Instructions for updating:\n",
      "Please switch to tf.summary.scalar. Note that tf.summary.scalar uses the node name instead of the tag. This means that TensorFlow will automatically de-duplicate summary names based on the scope they are created in. Also, passing a tensor or list of tags to a scalar summary op is no longer supported.\n",
      "INFO:tensorflow:Create CheckpointSaverHook.\n",
      "2017-10-24 10:51:03.923540: W tensorflow/core/platform/cpu_feature_guard.cc:45] The TensorFlow library wasn't compiled to use SSE4.1 instructions, but these are available on your machine and could speed up CPU computations.\n",
      "2017-10-24 10:51:03.923604: W tensorflow/core/platform/cpu_feature_guard.cc:45] The TensorFlow library wasn't compiled to use SSE4.2 instructions, but these are available on your machine and could speed up CPU computations.\n",
      "2017-10-24 10:51:03.923619: W tensorflow/core/platform/cpu_feature_guard.cc:45] The TensorFlow library wasn't compiled to use AVX instructions, but these are available on your machine and could speed up CPU computations.\n",
      "2017-10-24 10:51:03.923632: W tensorflow/core/platform/cpu_feature_guard.cc:45] The TensorFlow library wasn't compiled to use AVX2 instructions, but these are available on your machine and could speed up CPU computations.\n",
      "2017-10-24 10:51:03.923644: W tensorflow/core/platform/cpu_feature_guard.cc:45] The TensorFlow library wasn't compiled to use FMA instructions, but these are available on your machine and could speed up CPU computations.\n",
      "INFO:tensorflow:Saving checkpoints for 1 into /content/datalab/notebooks/sapaper-helpdesk/priority_classification/train/train/model.ckpt.\n",
      "INFO:tensorflow:loss = 1.12583, step = 1\n",
      "WARNING:tensorflow:From /usr/local/lib/python2.7/dist-packages/tensorflow/contrib/learn/python/learn/estimators/head.py:625: scalar_summary (from tensorflow.python.ops.logging_ops) is deprecated and will be removed after 2016-11-30.\n",
      "Instructions for updating:\n",
      "Please switch to tf.summary.scalar. Note that tf.summary.scalar uses the node name instead of the tag. This means that TensorFlow will automatically de-duplicate summary names based on the scope they are created in. Also, passing a tensor or list of tags to a scalar summary op is no longer supported.\n",
      "INFO:tensorflow:Starting evaluation at 2017-10-24-10:51:04\n",
      "INFO:tensorflow:Restoring parameters from /content/datalab/notebooks/sapaper-helpdesk/priority_classification/train/train/model.ckpt-1\n",
      "INFO:tensorflow:Finished evaluation at 2017-10-24-10:51:05\n",
      "INFO:tensorflow:Saving dict for global step 1: accuracy = 0.25573, global_step = 1, loss = 1.91327\n",
      "INFO:tensorflow:Validation (step 100): loss = 1.91327, global_step = 1, accuracy = 0.25573\n",
      "INFO:tensorflow:global_step/sec: 84.1192\n",
      "INFO:tensorflow:loss = 0.989993, step = 101 (1.189 sec)\n",
      "INFO:tensorflow:global_step/sec: 483.917\n",
      "INFO:tensorflow:loss = 1.05279, step = 201 (0.206 sec)\n",
      "INFO:tensorflow:global_step/sec: 533.906\n",
      "INFO:tensorflow:loss = 0.350223, step = 301 (0.189 sec)\n",
      "INFO:tensorflow:global_step/sec: 420.136\n",
      "INFO:tensorflow:loss = 0.634435, step = 401 (0.237 sec)\n",
      "INFO:tensorflow:global_step/sec: 362.673\n",
      "INFO:tensorflow:loss = 0.635942, step = 501 (0.276 sec)\n",
      "INFO:tensorflow:global_step/sec: 446.325\n",
      "INFO:tensorflow:loss = 0.501988, step = 601 (0.223 sec)\n",
      "INFO:tensorflow:global_step/sec: 439.047\n",
      "INFO:tensorflow:loss = 0.802113, step = 701 (0.228 sec)\n",
      "INFO:tensorflow:global_step/sec: 375.868\n",
      "INFO:tensorflow:loss = 0.544716, step = 801 (0.267 sec)\n",
      "INFO:tensorflow:global_step/sec: 374.925\n",
      "INFO:tensorflow:loss = 0.687425, step = 901 (0.266 sec)\n",
      "INFO:tensorflow:global_step/sec: 471.598\n",
      "INFO:tensorflow:loss = 0.824641, step = 1001 (0.212 sec)\n",
      "INFO:tensorflow:global_step/sec: 474.491\n",
      "INFO:tensorflow:loss = 0.803496, step = 1101 (0.210 sec)\n",
      "INFO:tensorflow:global_step/sec: 438.589\n",
      "INFO:tensorflow:loss = 0.287445, step = 1201 (0.229 sec)\n",
      "INFO:tensorflow:global_step/sec: 348.355\n",
      "INFO:tensorflow:loss = 0.958928, step = 1301 (0.287 sec)\n",
      "INFO:tensorflow:global_step/sec: 416.379\n",
      "INFO:tensorflow:loss = 0.403331, step = 1401 (0.240 sec)\n",
      "INFO:tensorflow:global_step/sec: 541.293\n",
      "INFO:tensorflow:loss = 0.897942, step = 1501 (0.184 sec)\n",
      "INFO:tensorflow:global_step/sec: 451.571\n",
      "INFO:tensorflow:loss = 0.98193, step = 1601 (0.222 sec)\n",
      "INFO:tensorflow:global_step/sec: 351.221\n",
      "INFO:tensorflow:loss = 0.359593, step = 1701 (0.286 sec)\n",
      "INFO:tensorflow:global_step/sec: 411.729\n",
      "INFO:tensorflow:loss = 0.668092, step = 1801 (0.241 sec)\n",
      "INFO:tensorflow:global_step/sec: 405.147\n",
      "INFO:tensorflow:loss = 0.321452, step = 1901 (0.247 sec)\n",
      "INFO:tensorflow:global_step/sec: 342.992\n",
      "INFO:tensorflow:loss = 0.971123, step = 2001 (0.291 sec)\n",
      "INFO:tensorflow:global_step/sec: 279.385\n",
      "INFO:tensorflow:loss = 0.562374, step = 2101 (0.359 sec)\n",
      "INFO:tensorflow:global_step/sec: 452.982\n",
      "INFO:tensorflow:loss = 0.5424, step = 2201 (0.220 sec)\n",
      "INFO:tensorflow:global_step/sec: 511.352\n",
      "INFO:tensorflow:loss = 0.105311, step = 2301 (0.195 sec)\n",
      "INFO:tensorflow:global_step/sec: 480.748\n",
      "INFO:tensorflow:loss = 0.702961, step = 2401 (0.208 sec)\n",
      "INFO:tensorflow:global_step/sec: 503.087\n",
      "INFO:tensorflow:loss = 0.514465, step = 2501 (0.199 sec)\n",
      "INFO:tensorflow:global_step/sec: 501.726\n",
      "INFO:tensorflow:loss = 0.291336, step = 2601 (0.199 sec)\n",
      "INFO:tensorflow:global_step/sec: 509.24\n",
      "INFO:tensorflow:loss = 0.542693, step = 2701 (0.197 sec)\n",
      "INFO:tensorflow:global_step/sec: 620.079\n",
      "INFO:tensorflow:loss = 0.405823, step = 2801 (0.161 sec)\n",
      "INFO:tensorflow:global_step/sec: 530.332\n",
      "INFO:tensorflow:loss = 0.604721, step = 2901 (0.189 sec)\n",
      "INFO:tensorflow:global_step/sec: 444.083\n",
      "INFO:tensorflow:loss = 0.498699, step = 3001 (0.225 sec)\n",
      "INFO:tensorflow:global_step/sec: 520.744\n",
      "INFO:tensorflow:loss = 0.803228, step = 3101 (0.192 sec)\n",
      "INFO:tensorflow:global_step/sec: 457.189\n",
      "INFO:tensorflow:loss = 0.479367, step = 3201 (0.219 sec)\n",
      "INFO:tensorflow:global_step/sec: 646.334\n",
      "INFO:tensorflow:loss = 0.619944, step = 3301 (0.155 sec)\n",
      "INFO:tensorflow:global_step/sec: 475.798\n",
      "INFO:tensorflow:loss = 0.421335, step = 3401 (0.211 sec)\n",
      "INFO:tensorflow:global_step/sec: 434.894\n",
      "INFO:tensorflow:loss = 0.423114, step = 3501 (0.229 sec)\n",
      "INFO:tensorflow:global_step/sec: 481.139\n",
      "INFO:tensorflow:loss = 0.709508, step = 3601 (0.208 sec)\n",
      "INFO:tensorflow:global_step/sec: 471.667\n",
      "INFO:tensorflow:loss = 0.850081, step = 3701 (0.212 sec)\n",
      "INFO:tensorflow:global_step/sec: 483.125\n",
      "INFO:tensorflow:loss = 0.319084, step = 3801 (0.207 sec)\n",
      "INFO:tensorflow:global_step/sec: 521.013\n",
      "INFO:tensorflow:loss = 0.914938, step = 3901 (0.192 sec)\n",
      "INFO:tensorflow:global_step/sec: 445.153\n",
      "INFO:tensorflow:loss = 0.602582, step = 4001 (0.225 sec)\n",
      "INFO:tensorflow:global_step/sec: 410.941\n",
      "INFO:tensorflow:loss = 0.79635, step = 4101 (0.243 sec)\n",
      "INFO:tensorflow:global_step/sec: 107.382\n",
      "INFO:tensorflow:loss = 0.734579, step = 4201 (0.931 sec)\n",
      "INFO:tensorflow:global_step/sec: 460.026\n",
      "INFO:tensorflow:loss = 0.259844, step = 4301 (0.217 sec)\n",
      "INFO:tensorflow:global_step/sec: 234.523\n",
      "INFO:tensorflow:loss = 0.327356, step = 4401 (0.428 sec)\n",
      "INFO:tensorflow:global_step/sec: 279.594\n",
      "INFO:tensorflow:loss = 0.128928, step = 4501 (0.356 sec)\n",
      "INFO:tensorflow:global_step/sec: 392.408\n",
      "INFO:tensorflow:loss = 0.2664, step = 4601 (0.255 sec)\n",
      "INFO:tensorflow:global_step/sec: 494.142\n",
      "INFO:tensorflow:loss = 0.398943, step = 4701 (0.202 sec)\n",
      "INFO:tensorflow:global_step/sec: 426.43\n",
      "INFO:tensorflow:loss = 0.478484, step = 4801 (0.235 sec)\n",
      "INFO:tensorflow:global_step/sec: 443.276\n",
      "INFO:tensorflow:loss = 0.54423, step = 4901 (0.226 sec)\n",
      "INFO:tensorflow:Saving checkpoints for 5000 into /content/datalab/notebooks/sapaper-helpdesk/priority_classification/train/train/model.ckpt.\n",
      "INFO:tensorflow:Loss for final step: 0.541655.\n",
      "WARNING:tensorflow:From /usr/local/lib/python2.7/dist-packages/tensorflow/contrib/learn/python/learn/estimators/head.py:625: scalar_summary (from tensorflow.python.ops.logging_ops) is deprecated and will be removed after 2016-11-30.\n",
      "Instructions for updating:\n",
      "Please switch to tf.summary.scalar. Note that tf.summary.scalar uses the node name instead of the tag. This means that TensorFlow will automatically de-duplicate summary names based on the scope they are created in. Also, passing a tensor or list of tags to a scalar summary op is no longer supported.\n",
      "INFO:tensorflow:Starting evaluation at 2017-10-24-10:51:18\n",
      "INFO:tensorflow:Restoring parameters from /content/datalab/notebooks/sapaper-helpdesk/priority_classification/train/train/model.ckpt-5000\n",
      "INFO:tensorflow:Finished evaluation at 2017-10-24-10:51:18\n",
      "INFO:tensorflow:Saving dict for global step 5000: accuracy = 0.722309, global_step = 5000, loss = 0.57407\n",
      "INFO:tensorflow:Restoring parameters from /content/datalab/notebooks/sapaper-helpdesk/priority_classification/train/train/model.ckpt-5000\n",
      "INFO:tensorflow:Assets added to graph.\n",
      "INFO:tensorflow:No assets to write.\n",
      "INFO:tensorflow:SavedModel written to: /content/datalab/notebooks/sapaper-helpdesk/priority_classification/train/train/export/intermediate_prediction_models/1508842279/saved_model.pb\n",
      "INFO:tensorflow:Restoring parameters from /content/datalab/notebooks/sapaper-helpdesk/priority_classification/train/train/model.ckpt-5000\n",
      "INFO:tensorflow:Assets added to graph.\n",
      "INFO:tensorflow:No assets to write.\n",
      "INFO:tensorflow:SavedModel written to: /content/datalab/notebooks/sapaper-helpdesk/priority_classification/train/train/export/intermediate_evaluation_models/1508842280/saved_model.pb\n"
     ]
    }
   ],
   "source": [
    "%%ml train --output train --analysis analysis\n",
    "training_data:\n",
    "    transformed: './transform/train-*'\n",
    "evaluation_data:\n",
    "    transformed: './transform/eval-*'\n",
    "model_args:\n",
    "    model: dnn_classification\n",
    "    max-steps: 5000\n",
    "    save-checkpoints-secs: 300\n",
    "    hidden-layer-size1: 256\n",
    "    hidden-layer-size2: 128\n",
    "    train-batch-size: 8\n",
    "    eval-batch-size: 100\n",
    "    learning-rate: 0.001"
   ]
  },
  {
   "cell_type": "code",
   "execution_count": 18,
   "metadata": {},
   "outputs": [
    {
     "data": {
      "text/html": [
       "<p>TensorBoard was started successfully with pid 2387. Click <a href=\"/_proxy/44817/\" target=\"_blank\">here</a> to access it.</p>"
      ]
     },
     "metadata": {},
     "output_type": "display_data"
    }
   ],
   "source": [
    "tensorboard_pid = ml.TensorBoard.start('./train')"
   ]
  },
  {
   "cell_type": "code",
   "execution_count": 19,
   "metadata": {
    "collapsed": true
   },
   "outputs": [],
   "source": [
    "ml.TensorBoard.stop(tensorboard_pid)"
   ]
  },
  {
   "cell_type": "markdown",
   "metadata": {},
   "source": [
    "# 6 of 7\n",
    "In this section, we will test our model to see how well it performs. For demo purposes, we are reusing the evaluation dataset. Consider using a 3rd separated dataset for production cases."
   ]
  },
  {
   "cell_type": "code",
   "execution_count": 20,
   "metadata": {
    "collapsed": true
   },
   "outputs": [],
   "source": [
    "!rm -rf evalme"
   ]
  },
  {
   "cell_type": "code",
   "execution_count": 21,
   "metadata": {},
   "outputs": [
    {
     "name": "stdout",
     "output_type": "stream",
     "text": [
      "local prediction...\n",
      "INFO:tensorflow:Restoring parameters from train/evaluation_model/variables/variables\n",
      "done.\n"
     ]
    }
   ],
   "source": [
    "%%ml batch_predict --model train/evaluation_model --output evalme\n",
    "format: csv\n",
    "prediction_data:\n",
    "    csv: './eval.csv'"
   ]
  },
  {
   "cell_type": "code",
   "execution_count": 22,
   "metadata": {},
   "outputs": [
    {
     "name": "stdout",
     "output_type": "stream",
     "text": [
      "P2,0.651408,P2,t9\r\n",
      "P4,0.584897,P3,t15\r\n"
     ]
    }
   ],
   "source": [
    "!head -n 2 evalme/predict_results_eval.csv"
   ]
  },
  {
   "cell_type": "code",
   "execution_count": 23,
   "metadata": {},
   "outputs": [
    {
     "data": {
      "image/png": "[encoded data removed]",
      "text/plain": [
       "<matplotlib.figure.Figure at 0x7f2beda34110>"
      ]
     },
     "metadata": {},
     "output_type": "display_data"
    }
   ],
   "source": [
    "ml.ConfusionMatrix.from_csv(\n",
    "  input_csv='./evalme/predict_results_eval.csv',\n",
    "  schema_file='./evalme/predict_results_schema.json'\n",
    ").plot()"
   ]
  },
  {
   "cell_type": "markdown",
   "metadata": {},
   "source": [
    "We see on this confusion matrix that the predictions are not too bad, the good ones being on the diagonale. Results might improve by doing extra prepration steps such as:\n",
    "- Feature crossing\n",
    "- Correlation analysis\n",
    "- Normalization"
   ]
  },
  {
   "cell_type": "markdown",
   "metadata": {},
   "source": [
    "# 7 of 7  - Deploy the Model"
   ]
  },
  {
   "cell_type": "code",
   "execution_count": null,
   "metadata": {},
   "outputs": [],
   "source": [
    "model_name = 'mdl_helpdesk_resolution_time'\n",
    "model_version = 'v1'\n",
    "\n",
    "storage_bucket = 'gs://' + google.datalab.Context.default().project_id + '-datalab-workspace/'\n",
    "storage_region = 'us-central1'"
   ]
  },
  {
   "cell_type": "code",
   "execution_count": null,
   "metadata": {
    "collapsed": true
   },
   "outputs": [],
   "source": [
    "# Check that we have the model files created by the training\n",
    "!ls -R train/model"
   ]
  },
  {
   "cell_type": "code",
   "execution_count": null,
   "metadata": {
    "collapsed": true
   },
   "outputs": [],
   "source": [
    "# Create a model\n",
    "!gcloud ml-engine models create {model_name} --regions {storage_region}"
   ]
  },
  {
   "cell_type": "code",
   "execution_count": null,
   "metadata": {},
   "outputs": [],
   "source": [
    "# Create a staging bucket required to write staging files\n",
    "# When creating a model from local files\n",
    "staging_bucket = 'gs://' + google.datalab.Context.default().project_id + '-dtlb-staging-resolution'\n",
    "!gsutil mb -c regional -l {storage_region} {staging_bucket}"
   ]
  },
  {
   "cell_type": "code",
   "execution_count": null,
   "metadata": {
    "collapsed": true
   },
   "outputs": [],
   "source": [
    "# Create our version of the model.\n",
    "!gcloud ml-engine versions create {model_version} --model {model_name} --origin train/model --staging-bucket {staging_bucket}"
   ]
  },
  {
   "cell_type": "markdown",
   "metadata": {},
   "source": [
    "That version that is deployed is the one that you will be able to update automatically in a production environment if you need to update your model daily/weekly/monthly for example"
   ]
  }
 ],
 "metadata": {
  "kernelspec": {
   "display_name": "Python 2",
   "language": "python",
   "name": "python2"
  },
  "language_info": {
   "codemirror_mode": {
    "name": "ipython",
    "version": 2
   },
   "file_extension": ".py",
   "mimetype": "text/x-python",
   "name": "python",
   "nbconvert_exporter": "python",
   "pygments_lexer": "ipython2",
   "version": "2.7.13"
  }
 },
 "nbformat": 4,
 "nbformat_minor": 2
}
