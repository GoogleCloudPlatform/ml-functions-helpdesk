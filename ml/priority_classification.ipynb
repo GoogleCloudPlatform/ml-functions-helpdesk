{
 "cells": [
  {
   "cell_type": "code",
   "execution_count": 2,
   "metadata": {
    "collapsed": false
   },
   "outputs": [
    {
     "data": {
      "text/html": [
       "\n",
       "          <script src=\"/static/components/requirejs/require.js\"></script>\n",
       "          <script>\n",
       "            requirejs.config({\n",
       "              paths: {\n",
       "                base: '/static/base',\n",
       "              },\n",
       "            });\n",
       "          </script>\n",
       "          "
      ],
      "text/plain": [
       "<IPython.core.display.HTML object>"
      ]
     },
     "metadata": {},
     "output_type": "display_data"
    }
   ],
   "source": [
    "# Only to use if Jupyter Notebook\n",
    "# %load_ext google.datalab.kernel"
   ]
  },
  {
   "cell_type": "code",
   "execution_count": 3,
   "metadata": {
    "collapsed": false
   },
   "outputs": [
    {
     "data": {
      "text/html": [
       "\n",
       "          <script src=\"/static/components/requirejs/require.js\"></script>\n",
       "          <script>\n",
       "            requirejs.config({\n",
       "              paths: {\n",
       "                base: '/static/base',\n",
       "              },\n",
       "            });\n",
       "          </script>\n",
       "          "
      ],
      "text/plain": [
       "<IPython.core.display.HTML object>"
      ]
     },
     "metadata": {},
     "output_type": "display_data"
    }
   ],
   "source": [
    "from __future__ import division\n",
    "import os, hashlib, math\n",
    "import numpy as np\n",
    "import pandas as pd\n",
    "\n",
    "import sklearn.metrics as metrics\n",
    "import seaborn as sns\n",
    "import matplotlib.pyplot as plt\n",
    "\n",
    "import google.datalab.contrib.mlworkbench.commands\n",
    "import google.datalab.ml as ml"
   ]
  },
  {
   "cell_type": "markdown",
   "metadata": {},
   "source": [
    "This Notebook shows you how to perform the basic steps in order to build, train and deploy a model on Google Cloud Platform using ML Toolbox\n",
    "\n",
    "1. Collect data\n",
    "2. Organize data\n",
    "3. Design the model\n",
    "4. Train and generate the model\n",
    "5. Deploy the model\n",
    "\n",
    "Note that we will build, train and deploy our model on this machine only as our dataset is small enough and a model created locally can still be deployed on Google ML Engine."
   ]
  },
  {
   "cell_type": "code",
   "execution_count": 4,
   "metadata": {
    "collapsed": false
   },
   "outputs": [
    {
     "data": {
      "text/html": [
       "\n",
       "          <script src=\"/static/components/requirejs/require.js\"></script>\n",
       "          <script>\n",
       "            requirejs.config({\n",
       "              paths: {\n",
       "                base: '/static/base',\n",
       "              },\n",
       "            });\n",
       "          </script>\n",
       "          "
      ],
      "text/plain": [
       "<IPython.core.display.HTML object>"
      ]
     },
     "metadata": {},
     "output_type": "display_data"
    }
   ],
   "source": [
    "WORKING_FOLDER = 'priority'\n",
    "CSV_FILE = \"issues.csv\""
   ]
  },
  {
   "cell_type": "code",
   "execution_count": 5,
   "metadata": {
    "collapsed": false
   },
   "outputs": [
    {
     "data": {
      "text/html": [
       "\n",
       "          <script src=\"/static/components/requirejs/require.js\"></script>\n",
       "          <script>\n",
       "            requirejs.config({\n",
       "              paths: {\n",
       "                base: '/static/base',\n",
       "              },\n",
       "            });\n",
       "          </script>\n",
       "          "
      ],
      "text/plain": [
       "<IPython.core.display.HTML object>"
      ]
     },
     "metadata": {},
     "output_type": "display_data"
    }
   ],
   "source": [
    "!rm -rf $WORKING_FOLDER\n",
    "!mkdir $WORKING_FOLDER"
   ]
  },
  {
   "cell_type": "markdown",
   "metadata": {},
   "source": [
    "# 1 of 7 - Collect data\n",
    "In a use case like this, data can be collected in different ways usually through dump of your database or export from your CRM into CSV. \n",
    "\n",
    "The data that we have collected is available on Google Cloud Storage as gs://solutions-public-assets/smartenup-helpdesk/ml/data.csv (public dataset).\n",
    "\n",
    "Note that in some cases, data might be saved in BigQuery (which is both a storage and queryuing engine) which is perfectly fine and would actually facilitate the filtering of the data specially with big datasets."
   ]
  },
  {
   "cell_type": "code",
   "execution_count": 6,
   "metadata": {
    "collapsed": false
   },
   "outputs": [
    {
     "data": {
      "text/html": [
       "\n",
       "          <script src=\"/static/components/requirejs/require.js\"></script>\n",
       "          <script>\n",
       "            requirejs.config({\n",
       "              paths: {\n",
       "                base: '/static/base',\n",
       "              },\n",
       "            });\n",
       "          </script>\n",
       "          "
      ],
      "text/plain": [
       "<IPython.core.display.HTML object>"
      ]
     },
     "metadata": {},
     "output_type": "display_data"
    },
    {
     "name": "stdout",
     "output_type": "stream",
     "text": [
      "Copying gs://solutions-public-assets/smartenup-helpdesk/ml/issues.csv...\n",
      "/ [1 files][  6.5 MiB/  6.5 MiB]                                                \n",
      "Operation completed over 1 objects/6.5 MiB.                                      \n"
     ]
    }
   ],
   "source": [
    "# Copy data from the cloud to this instance\n",
    "!gsutil cp gs://solutions-public-assets/smartenup-helpdesk/ml/issues.csv $CSV_FILE"
   ]
  },
  {
   "cell_type": "code",
   "execution_count": 7,
   "metadata": {
    "collapsed": false
   },
   "outputs": [
    {
     "data": {
      "text/html": [
       "\n",
       "          <script src=\"/static/components/requirejs/require.js\"></script>\n",
       "          <script>\n",
       "            requirejs.config({\n",
       "              paths: {\n",
       "                base: '/static/base',\n",
       "              },\n",
       "            });\n",
       "          </script>\n",
       "          "
      ],
      "text/plain": [
       "<IPython.core.display.HTML object>"
      ]
     },
     "metadata": {},
     "output_type": "display_data"
    },
    {
     "name": "stdout",
     "output_type": "stream",
     "text": [
      "100000 rows\n"
     ]
    },
    {
     "data": {
      "text/html": [
       "<div>\n",
       "<table border=\"1\" class=\"dataframe\">\n",
       "  <thead>\n",
       "    <tr style=\"text-align: right;\">\n",
       "      <th></th>\n",
       "      <th>ticketid</th>\n",
       "      <th>contactid</th>\n",
       "      <th>seniority</th>\n",
       "      <th>experience</th>\n",
       "      <th>category</th>\n",
       "      <th>type</th>\n",
       "      <th>impact</th>\n",
       "      <th>priority</th>\n",
       "      <th>resolutiontime</th>\n",
       "    </tr>\n",
       "  </thead>\n",
       "  <tbody>\n",
       "    <tr>\n",
       "      <th>0</th>\n",
       "      <td>t0</td>\n",
       "      <td>Patrick Blevins</td>\n",
       "      <td>12</td>\n",
       "      <td>3-Advanced</td>\n",
       "      <td>Performance</td>\n",
       "      <td>Request</td>\n",
       "      <td>4-Critical</td>\n",
       "      <td>P1</td>\n",
       "      <td>5</td>\n",
       "    </tr>\n",
       "    <tr>\n",
       "      <th>1</th>\n",
       "      <td>t1</td>\n",
       "      <td>Kaitlyn Ruiz</td>\n",
       "      <td>3</td>\n",
       "      <td>2-Experienced</td>\n",
       "      <td>Technical</td>\n",
       "      <td>Issue</td>\n",
       "      <td>1-Minor</td>\n",
       "      <td>P4</td>\n",
       "      <td>6</td>\n",
       "    </tr>\n",
       "    <tr>\n",
       "      <th>2</th>\n",
       "      <td>t2</td>\n",
       "      <td>Chelsea Martin</td>\n",
       "      <td>11</td>\n",
       "      <td>2-Experienced</td>\n",
       "      <td>Technical</td>\n",
       "      <td>Request</td>\n",
       "      <td>4-Critical</td>\n",
       "      <td>P1</td>\n",
       "      <td>2</td>\n",
       "    </tr>\n",
       "    <tr>\n",
       "      <th>3</th>\n",
       "      <td>t3</td>\n",
       "      <td>Richard Arnold</td>\n",
       "      <td>8</td>\n",
       "      <td>2-Experienced</td>\n",
       "      <td>Performance</td>\n",
       "      <td>Request</td>\n",
       "      <td>1-Minor</td>\n",
       "      <td>P3</td>\n",
       "      <td>5</td>\n",
       "    </tr>\n",
       "    <tr>\n",
       "      <th>4</th>\n",
       "      <td>t4</td>\n",
       "      <td>Kelly Jackson</td>\n",
       "      <td>7</td>\n",
       "      <td>4-Trainer</td>\n",
       "      <td>Billing</td>\n",
       "      <td>Request</td>\n",
       "      <td>0-Unclassified</td>\n",
       "      <td>P4</td>\n",
       "      <td>3</td>\n",
       "    </tr>\n",
       "  </tbody>\n",
       "</table>\n",
       "</div>"
      ],
      "text/plain": [
       "  ticketid        contactid seniority     experience     category     type  \\\n",
       "0       t0  Patrick Blevins        12     3-Advanced  Performance  Request   \n",
       "1       t1     Kaitlyn Ruiz         3  2-Experienced    Technical    Issue   \n",
       "2       t2   Chelsea Martin        11  2-Experienced    Technical  Request   \n",
       "3       t3   Richard Arnold         8  2-Experienced  Performance  Request   \n",
       "4       t4    Kelly Jackson         7      4-Trainer      Billing  Request   \n",
       "\n",
       "           impact priority resolutiontime  \n",
       "0      4-Critical       P1              5  \n",
       "1         1-Minor       P4              6  \n",
       "2      4-Critical       P1              2  \n",
       "3         1-Minor       P3              5  \n",
       "4  0-Unclassified       P4              3  "
      ]
     },
     "execution_count": 7,
     "metadata": {},
     "output_type": "execute_result"
    }
   ],
   "source": [
    "# Read data from csv into a Panda dataframe\n",
    "df_data = pd.read_csv(CSV_FILE, dtype=str)\n",
    "print '%d rows' % len(df_data)\n",
    "df_data.head()"
   ]
  },
  {
   "cell_type": "markdown",
   "metadata": {},
   "source": [
    "We need to make sure that we do not have any duplicate. If that was the case some identical rows could be found in the training set and validation set for example which would have an impact on the model training (remember, validation and training set can't overlap)"
   ]
  },
  {
   "cell_type": "code",
   "execution_count": 8,
   "metadata": {
    "collapsed": false
   },
   "outputs": [
    {
     "data": {
      "text/html": [
       "\n",
       "          <script src=\"/static/components/requirejs/require.js\"></script>\n",
       "          <script>\n",
       "            requirejs.config({\n",
       "              paths: {\n",
       "                base: '/static/base',\n",
       "              },\n",
       "            });\n",
       "          </script>\n",
       "          "
      ],
      "text/plain": [
       "<IPython.core.display.HTML object>"
      ]
     },
     "metadata": {},
     "output_type": "display_data"
    },
    {
     "name": "stdout",
     "output_type": "stream",
     "text": [
      "99993 rows\n"
     ]
    }
   ],
   "source": [
    "df_data = df_data.drop_duplicates(df_data.columns.difference(['ticketid']))\n",
    "print '%d rows' % len(df_data)"
   ]
  },
  {
   "cell_type": "markdown",
   "metadata": {},
   "source": [
    "# 2 of 7 - Organize data"
   ]
  },
  {
   "cell_type": "markdown",
   "metadata": {},
   "source": [
    "## Filter data\n",
    "\n",
    "We keep only the columns that we are interested and discard some others:\n",
    "- ownerid because we won't know its value when doing a prediction\n",
    "- priority as it is a value that we will predict in another Notebook\n",
    "- statisfaction as it is not a value that we know when doing a prediction. It might also be a value we woud like to predict later"
   ]
  },
  {
   "cell_type": "code",
   "execution_count": 9,
   "metadata": {
    "collapsed": false
   },
   "outputs": [
    {
     "data": {
      "text/html": [
       "\n",
       "          <script src=\"/static/components/requirejs/require.js\"></script>\n",
       "          <script>\n",
       "            requirejs.config({\n",
       "              paths: {\n",
       "                base: '/static/base',\n",
       "              },\n",
       "            });\n",
       "          </script>\n",
       "          "
      ],
      "text/plain": [
       "<IPython.core.display.HTML object>"
      ]
     },
     "metadata": {},
     "output_type": "display_data"
    },
    {
     "name": "stdout",
     "output_type": "stream",
     "text": [
      "99993 rows\n"
     ]
    },
    {
     "data": {
      "text/html": [
       "<div>\n",
       "<table border=\"1\" class=\"dataframe\">\n",
       "  <thead>\n",
       "    <tr style=\"text-align: right;\">\n",
       "      <th></th>\n",
       "      <th>ticketid</th>\n",
       "      <th>seniority</th>\n",
       "      <th>experience</th>\n",
       "      <th>category</th>\n",
       "      <th>type</th>\n",
       "      <th>impact</th>\n",
       "      <th>priority</th>\n",
       "    </tr>\n",
       "  </thead>\n",
       "  <tbody>\n",
       "    <tr>\n",
       "      <th>0</th>\n",
       "      <td>t0</td>\n",
       "      <td>12</td>\n",
       "      <td>3-Advanced</td>\n",
       "      <td>Performance</td>\n",
       "      <td>Request</td>\n",
       "      <td>4-Critical</td>\n",
       "      <td>P1</td>\n",
       "    </tr>\n",
       "    <tr>\n",
       "      <th>1</th>\n",
       "      <td>t1</td>\n",
       "      <td>3</td>\n",
       "      <td>2-Experienced</td>\n",
       "      <td>Technical</td>\n",
       "      <td>Issue</td>\n",
       "      <td>1-Minor</td>\n",
       "      <td>P4</td>\n",
       "    </tr>\n",
       "    <tr>\n",
       "      <th>2</th>\n",
       "      <td>t2</td>\n",
       "      <td>11</td>\n",
       "      <td>2-Experienced</td>\n",
       "      <td>Technical</td>\n",
       "      <td>Request</td>\n",
       "      <td>4-Critical</td>\n",
       "      <td>P1</td>\n",
       "    </tr>\n",
       "    <tr>\n",
       "      <th>3</th>\n",
       "      <td>t3</td>\n",
       "      <td>8</td>\n",
       "      <td>2-Experienced</td>\n",
       "      <td>Performance</td>\n",
       "      <td>Request</td>\n",
       "      <td>1-Minor</td>\n",
       "      <td>P3</td>\n",
       "    </tr>\n",
       "    <tr>\n",
       "      <th>4</th>\n",
       "      <td>t4</td>\n",
       "      <td>7</td>\n",
       "      <td>4-Trainer</td>\n",
       "      <td>Billing</td>\n",
       "      <td>Request</td>\n",
       "      <td>0-Unclassified</td>\n",
       "      <td>P4</td>\n",
       "    </tr>\n",
       "  </tbody>\n",
       "</table>\n",
       "</div>"
      ],
      "text/plain": [
       "  ticketid seniority     experience     category     type          impact  \\\n",
       "0       t0        12     3-Advanced  Performance  Request      4-Critical   \n",
       "1       t1         3  2-Experienced    Technical    Issue         1-Minor   \n",
       "2       t2        11  2-Experienced    Technical  Request      4-Critical   \n",
       "3       t3         8  2-Experienced  Performance  Request         1-Minor   \n",
       "4       t4         7      4-Trainer      Billing  Request  0-Unclassified   \n",
       "\n",
       "  priority  \n",
       "0       P1  \n",
       "1       P4  \n",
       "2       P1  \n",
       "3       P3  \n",
       "4       P4  "
      ]
     },
     "execution_count": 9,
     "metadata": {},
     "output_type": "execute_result"
    }
   ],
   "source": [
    "def transform_data(df):\n",
    "    # Lists the column names that we want to keep from our dataframe. \n",
    "    interesting_columns = ['ticketid', 'seniority', 'experience', 'category', 'type', 'impact', 'priority']\n",
    "    \n",
    "    # Filters the dataframe to keep only the relevant data and return the dataframe.\n",
    "    df = df[interesting_columns]\n",
    "    return df\n",
    "  \n",
    "df_data = transform_data(df_data)\n",
    "# Displays the new dataframe.\n",
    "print '%d rows' % len(df_data)\n",
    "df_data.head()"
   ]
  },
  {
   "cell_type": "markdown",
   "metadata": {},
   "source": [
    "## Create datasets\n",
    "Here we create training and test datasets on a 80/20 basis. To keep consistency for every load of data we use a column that follows these two requirements:\n",
    "- Is a unique identifer for each row\n",
    "- Will not be used as a training input\n",
    "\n",
    "ticketid is a good candidate"
   ]
  },
  {
   "cell_type": "code",
   "execution_count": 10,
   "metadata": {
    "collapsed": false
   },
   "outputs": [
    {
     "data": {
      "text/html": [
       "\n",
       "          <script src=\"/static/components/requirejs/require.js\"></script>\n",
       "          <script>\n",
       "            requirejs.config({\n",
       "              paths: {\n",
       "                base: '/static/base',\n",
       "              },\n",
       "            });\n",
       "          </script>\n",
       "          "
      ],
      "text/plain": [
       "<IPython.core.display.HTML object>"
      ]
     },
     "metadata": {},
     "output_type": "display_data"
    }
   ],
   "source": [
    "def is_test_set(identifier, test_ratio, hash):\n",
    "    h = int(hash(identifier.encode('ascii')).hexdigest()[-7:], 16)\n",
    "    return (h/0xFFFFFFF) < test_ratio\n",
    "    \n",
    "def create_datasets(df, id_column, test_ratio=0.2, hash=hashlib.md5):\n",
    "    ids = df[id_column]\n",
    "    ids_test_set = ids.apply(lambda x: is_test_set(x, test_ratio, hash))\n",
    "    return df.loc[~ids_test_set], df.loc[ids_test_set]\n",
    "\n",
    "df_train, df_eval = create_datasets(df_data, 'ticketid')"
   ]
  },
  {
   "cell_type": "code",
   "execution_count": 11,
   "metadata": {
    "collapsed": false
   },
   "outputs": [
    {
     "data": {
      "text/html": [
       "\n",
       "          <script src=\"/static/components/requirejs/require.js\"></script>\n",
       "          <script>\n",
       "            requirejs.config({\n",
       "              paths: {\n",
       "                base: '/static/base',\n",
       "              },\n",
       "            });\n",
       "          </script>\n",
       "          "
      ],
      "text/plain": [
       "<IPython.core.display.HTML object>"
      ]
     },
     "metadata": {},
     "output_type": "display_data"
    }
   ],
   "source": [
    "# Set paths for CSV datasets\n",
    "training_data_path = './{}/train.csv'.format(WORKING_FOLDER)\n",
    "test_data_path = './{}/eval.csv'.format(WORKING_FOLDER)\n",
    "\n",
    "# Write Panda Dataframes to CSV files\n",
    "df_train.to_csv(training_data_path, header=False, index=False)\n",
    "df_eval.to_csv(test_data_path, header=False, index=False)"
   ]
  },
  {
   "cell_type": "markdown",
   "metadata": {},
   "source": [
    "## Explore\n",
    "One of the most important part of Machine Learning is to explore the data before building a model. A few things will help improving your model quality such as\n",
    "- Normalization\n",
    "- Look at feature correlation\n",
    "- Feature crossing\n",
    "- ...\n",
    "\n",
    "Because the main goal of this Notebook and solution is to show how to build and deploy a model for serverless enrichment, we won't spend too much time here (also because the provided dataset is fake) but keep in mind that this is not a part that should be ignored in a real world example."
   ]
  },
  {
   "cell_type": "markdown",
   "metadata": {},
   "source": [
    "One important thing in Classification though is to have a balanced set of Labels. "
   ]
  },
  {
   "cell_type": "code",
   "execution_count": 12,
   "metadata": {
    "collapsed": false
   },
   "outputs": [
    {
     "data": {
      "text/html": [
       "\n",
       "          <script src=\"/static/components/requirejs/require.js\"></script>\n",
       "          <script>\n",
       "            requirejs.config({\n",
       "              paths: {\n",
       "                base: '/static/base',\n",
       "              },\n",
       "            });\n",
       "          </script>\n",
       "          "
      ],
      "text/plain": [
       "<IPython.core.display.HTML object>"
      ]
     },
     "metadata": {},
     "output_type": "display_data"
    },
    {
     "name": "stdout",
     "output_type": "stream",
     "text": [
      "Training set:\n",
      "P1    20099\n",
      "P3    20060\n",
      "P4    20019\n",
      "P2    19962\n",
      "Name: priority, dtype: int64\n"
     ]
    }
   ],
   "source": [
    "print \"Training set:\\n{}\".format(df_train.priority.value_counts())"
   ]
  },
  {
   "cell_type": "code",
   "execution_count": 13,
   "metadata": {
    "collapsed": false
   },
   "outputs": [
    {
     "data": {
      "text/html": [
       "\n",
       "          <script src=\"/static/components/requirejs/require.js\"></script>\n",
       "          <script>\n",
       "            requirejs.config({\n",
       "              paths: {\n",
       "                base: '/static/base',\n",
       "              },\n",
       "            });\n",
       "          </script>\n",
       "          "
      ],
      "text/plain": [
       "<IPython.core.display.HTML object>"
      ]
     },
     "metadata": {},
     "output_type": "display_data"
    },
    {
     "name": "stdout",
     "output_type": "stream",
     "text": [
      "Eval set:\n",
      "P2    5037\n",
      "P4    4979\n",
      "P3    4939\n",
      "P1    4898\n",
      "Name: priority, dtype: int64\n"
     ]
    }
   ],
   "source": [
    "print \"Eval set:\\n{}\".format(df_eval.priority.value_counts())"
   ]
  },
  {
   "cell_type": "markdown",
   "metadata": {},
   "source": [
    "# 3 of 7: Analyse\n",
    "ML Workbench comes with a pre-buit function that analyzes training data and generate stats, such as min/max/mean for numeric values, vocabulary for text columns. Note that if cloud is set to True, the function leverages BigQuery making the switch from small dataset to big data seamless."
   ]
  },
  {
   "cell_type": "code",
   "execution_count": 21,
   "metadata": {
    "collapsed": false
   },
   "outputs": [
    {
     "data": {
      "text/html": [
       "\n",
       "          <script src=\"/static/components/requirejs/require.js\"></script>\n",
       "          <script>\n",
       "            requirejs.config({\n",
       "              paths: {\n",
       "                base: '/static/base',\n",
       "              },\n",
       "            });\n",
       "          </script>\n",
       "          "
      ],
      "text/plain": [
       "<IPython.core.display.HTML object>"
      ]
     },
     "metadata": {},
     "output_type": "display_data"
    }
   ],
   "source": [
    "!rm -rf ./priority/analysis"
   ]
  },
  {
   "cell_type": "code",
   "execution_count": 22,
   "metadata": {
    "collapsed": false
   },
   "outputs": [
    {
     "data": {
      "text/html": [
       "\n",
       "          <script src=\"/static/components/requirejs/require.js\"></script>\n",
       "          <script>\n",
       "            requirejs.config({\n",
       "              paths: {\n",
       "                base: '/static/base',\n",
       "              },\n",
       "            });\n",
       "          </script>\n",
       "          "
      ],
      "text/plain": [
       "<IPython.core.display.HTML object>"
      ]
     },
     "metadata": {},
     "output_type": "display_data"
    }
   ],
   "source": [
    "%%ml dataset create\n",
    "format: csv\n",
    "train: ./priority/train.csv\n",
    "eval: ./priority/eval.csv\n",
    "name: issues_data_priority\n",
    "schema:\n",
    "    - name: ticketid\n",
    "      type: STRING\n",
    "    - name: seniority\n",
    "      type: FLOAT\n",
    "    - name: experience\n",
    "      type: STRING\n",
    "    - name: category\n",
    "      type: STRING\n",
    "    - name: type\n",
    "      type: STRING\n",
    "    - name: impact\n",
    "      type: STRING\n",
    "    - name: priority\n",
    "      type: STRING"
   ]
  },
  {
   "cell_type": "code",
   "execution_count": 23,
   "metadata": {
    "collapsed": false
   },
   "outputs": [
    {
     "data": {
      "text/html": [
       "\n",
       "          <script src=\"/static/components/requirejs/require.js\"></script>\n",
       "          <script>\n",
       "            requirejs.config({\n",
       "              paths: {\n",
       "                base: '/static/base',\n",
       "              },\n",
       "            });\n",
       "          </script>\n",
       "          "
      ],
      "text/plain": [
       "<IPython.core.display.HTML object>"
      ]
     },
     "metadata": {},
     "output_type": "display_data"
    },
    {
     "name": "stdout",
     "output_type": "stream",
     "text": [
      "Expanding any file patterns...\n",
      "file list computed.\n",
      "Analyzing file /content/datalab/notebooks/priority/train.csv...\n",
      "file /content/datalab/notebooks/priority/train.csv analyzed.\n"
     ]
    }
   ],
   "source": [
    "%%ml analyze\n",
    "output: ./priority/analysis\n",
    "data: $issues_data_priority\n",
    "features:\n",
    "  ticketid: \n",
    "    transform: key\n",
    "  seniority:\n",
    "    transform: identity\n",
    "  experience:\n",
    "    transform: one_hot\n",
    "  category:\n",
    "    transform: one_hot\n",
    "  type:\n",
    "    transform: one_hot\n",
    "  impact:\n",
    "    transform: one_hot\n",
    "  priority:\n",
    "    transform: target"
   ]
  },
  {
   "cell_type": "markdown",
   "metadata": {},
   "source": [
    "# 4 of 7: Transform\n",
    "This section is optional but can be an important step when dealing with big data. While the Analysis phase provides enough details for the training step to append, the transform phase creates tfRecord files which is required for Tensorflow processing. Doing it now make sure that the training step can start from the preprocessed data and does not have to do this for each row for every pass of the data which is not recommended when handling text or image data."
   ]
  },
  {
   "cell_type": "code",
   "execution_count": 24,
   "metadata": {
    "collapsed": false
   },
   "outputs": [
    {
     "data": {
      "text/html": [
       "\n",
       "          <script src=\"/static/components/requirejs/require.js\"></script>\n",
       "          <script>\n",
       "            requirejs.config({\n",
       "              paths: {\n",
       "                base: '/static/base',\n",
       "              },\n",
       "            });\n",
       "          </script>\n",
       "          "
      ],
      "text/plain": [
       "<IPython.core.display.HTML object>"
      ]
     },
     "metadata": {},
     "output_type": "display_data"
    }
   ],
   "source": [
    "!rm -rf ./priority/transform"
   ]
  },
  {
   "cell_type": "code",
   "execution_count": 25,
   "metadata": {
    "collapsed": false
   },
   "outputs": [
    {
     "data": {
      "text/html": [
       "\n",
       "          <script src=\"/static/components/requirejs/require.js\"></script>\n",
       "          <script>\n",
       "            requirejs.config({\n",
       "              paths: {\n",
       "                base: '/static/base',\n",
       "              },\n",
       "            });\n",
       "          </script>\n",
       "          "
      ],
      "text/plain": [
       "<IPython.core.display.HTML object>"
      ]
     },
     "metadata": {},
     "output_type": "display_data"
    },
    {
     "name": "stdout",
     "output_type": "stream",
     "text": [
      "WARNING:root:Couldn't find python-snappy so the implementation of _TFRecordUtil._masked_crc32c is not as fast as it could be.\n",
      "WARNING:root:Couldn't find python-snappy so the implementation of _TFRecordUtil._masked_crc32c is not as fast as it could be.\n"
     ]
    }
   ],
   "source": [
    "%%ml transform\n",
    "output: ./priority/transform\n",
    "analysis: ./priority/analysis\n",
    "data: $issues_data_priority"
   ]
  },
  {
   "cell_type": "code",
   "execution_count": 26,
   "metadata": {
    "collapsed": false
   },
   "outputs": [
    {
     "data": {
      "text/html": [
       "\n",
       "          <script src=\"/static/components/requirejs/require.js\"></script>\n",
       "          <script>\n",
       "            requirejs.config({\n",
       "              paths: {\n",
       "                base: '/static/base',\n",
       "              },\n",
       "            });\n",
       "          </script>\n",
       "          "
      ],
      "text/plain": [
       "<IPython.core.display.HTML object>"
      ]
     },
     "metadata": {},
     "output_type": "display_data"
    }
   ],
   "source": [
    "%%ml dataset create\n",
    "format: transformed\n",
    "name: issues_data_priority_transformed\n",
    "train: ./priority/transform/train-*\n",
    "eval: ./priority/transform/eval-*"
   ]
  },
  {
   "cell_type": "markdown",
   "metadata": {},
   "source": [
    "# 5 of 7 Train\n",
    "This steps leverages Tensorflow canned models in the background without you having to write any code."
   ]
  },
  {
   "cell_type": "code",
   "execution_count": 35,
   "metadata": {
    "collapsed": false
   },
   "outputs": [
    {
     "data": {
      "text/html": [
       "\n",
       "          <script src=\"/static/components/requirejs/require.js\"></script>\n",
       "          <script>\n",
       "            requirejs.config({\n",
       "              paths: {\n",
       "                base: '/static/base',\n",
       "              },\n",
       "            });\n",
       "          </script>\n",
       "          "
      ],
      "text/plain": [
       "<IPython.core.display.HTML object>"
      ]
     },
     "metadata": {},
     "output_type": "display_data"
    }
   ],
   "source": [
    "!rm -rf ./priority/train"
   ]
  },
  {
   "cell_type": "code",
   "execution_count": 37,
   "metadata": {
    "collapsed": false
   },
   "outputs": [
    {
     "data": {
      "text/html": [
       "\n",
       "          <script src=\"/static/components/requirejs/require.js\"></script>\n",
       "          <script>\n",
       "            requirejs.config({\n",
       "              paths: {\n",
       "                base: '/static/base',\n",
       "              },\n",
       "            });\n",
       "          </script>\n",
       "          "
      ],
      "text/plain": [
       "<IPython.core.display.HTML object>"
      ]
     },
     "metadata": {},
     "output_type": "display_data"
    },
    {
     "data": {
      "text/html": [
       "<p>TensorBoard was started successfully with pid 10914. Click <a href=\"/_proxy/54390/\" target=\"_blank\">here</a> to access it.</p>"
      ]
     },
     "metadata": {},
     "output_type": "display_data"
    }
   ],
   "source": [
    "%%ml train\n",
    "output: ./priority/train\n",
    "analysis: ./priority/analysis\n",
    "data: $issues_data_priority_transformed\n",
    "model_args:\n",
    "model_args:\n",
    "    model: dnn_classification\n",
    "    max-steps: 5000\n",
    "    hidden-layer-size1: 256\n",
    "    hidden-layer-size2: 128\n",
    "    train-batch-size: 8\n",
    "    eval-batch-size: 100\n",
    "    learning-rate: 0.001"
   ]
  },
  {
   "cell_type": "code",
   "execution_count": null,
   "metadata": {
    "collapsed": false
   },
   "outputs": [],
   "source": [
    "tensorboard_pid = ml.TensorBoard.start('./{}/train'.format(WORKING_FOLDER))"
   ]
  },
  {
   "cell_type": "code",
   "execution_count": 30,
   "metadata": {
    "collapsed": false
   },
   "outputs": [
    {
     "data": {
      "text/html": [
       "\n",
       "          <script src=\"/static/components/requirejs/require.js\"></script>\n",
       "          <script>\n",
       "            requirejs.config({\n",
       "              paths: {\n",
       "                base: '/static/base',\n",
       "              },\n",
       "            });\n",
       "          </script>\n",
       "          "
      ],
      "text/plain": [
       "<IPython.core.display.HTML object>"
      ]
     },
     "metadata": {},
     "output_type": "display_data"
    }
   ],
   "source": [
    "ml.TensorBoard.stop(tensorboard_pid)"
   ]
  },
  {
   "cell_type": "markdown",
   "metadata": {},
   "source": [
    "# 6 of 7\n",
    "In this section, we will test our model to see how well it performs. For demo purposes, we are reusing the evaluation dataset. Consider using a 3rd separated dataset for production cases."
   ]
  },
  {
   "cell_type": "code",
   "execution_count": 38,
   "metadata": {
    "collapsed": false
   },
   "outputs": [
    {
     "data": {
      "text/html": [
       "\n",
       "          <script src=\"/static/components/requirejs/require.js\"></script>\n",
       "          <script>\n",
       "            requirejs.config({\n",
       "              paths: {\n",
       "                base: '/static/base',\n",
       "              },\n",
       "            });\n",
       "          </script>\n",
       "          "
      ],
      "text/plain": [
       "<IPython.core.display.HTML object>"
      ]
     },
     "metadata": {},
     "output_type": "display_data"
    }
   ],
   "source": [
    "!rm -rf ./priority/evalme"
   ]
  },
  {
   "cell_type": "code",
   "execution_count": 40,
   "metadata": {
    "collapsed": false
   },
   "outputs": [
    {
     "data": {
      "text/html": [
       "\n",
       "          <script src=\"/static/components/requirejs/require.js\"></script>\n",
       "          <script>\n",
       "            requirejs.config({\n",
       "              paths: {\n",
       "                base: '/static/base',\n",
       "              },\n",
       "            });\n",
       "          </script>\n",
       "          "
      ],
      "text/plain": [
       "<IPython.core.display.HTML object>"
      ]
     },
     "metadata": {},
     "output_type": "display_data"
    },
    {
     "name": "stdout",
     "output_type": "stream",
     "text": [
      "local prediction...\n",
      "INFO:tensorflow:Restoring parameters from ./priority/train/evaluation_model/variables/variables\n",
      "done.\n"
     ]
    }
   ],
   "source": [
    "%%ml batch_predict\n",
    "model: ./priority/train/evaluation_model/\n",
    "output: ./priority/evalme\n",
    "format: csv\n",
    "data:\n",
    "  csv: ./priority/eval.csv"
   ]
  },
  {
   "cell_type": "code",
   "execution_count": 42,
   "metadata": {
    "collapsed": false
   },
   "outputs": [
    {
     "data": {
      "text/html": [
       "\n",
       "          <script src=\"/static/components/requirejs/require.js\"></script>\n",
       "          <script>\n",
       "            requirejs.config({\n",
       "              paths: {\n",
       "                base: '/static/base',\n",
       "              },\n",
       "            });\n",
       "          </script>\n",
       "          "
      ],
      "text/plain": [
       "<IPython.core.display.HTML object>"
      ]
     },
     "metadata": {},
     "output_type": "display_data"
    },
    {
     "name": "stdout",
     "output_type": "stream",
     "text": [
      "P2,0.85453,P2,t9\r\n",
      "P4,0.858997,P3,t15\r\n"
     ]
    }
   ],
   "source": [
    "!head -n 2 ./priority/evalme/predict_results_eval.csv"
   ]
  },
  {
   "cell_type": "code",
   "execution_count": 43,
   "metadata": {
    "collapsed": false
   },
   "outputs": [
    {
     "data": {
      "text/html": [
       "\n",
       "          <script src=\"/static/components/requirejs/require.js\"></script>\n",
       "          <script>\n",
       "            requirejs.config({\n",
       "              paths: {\n",
       "                base: '/static/base',\n",
       "              },\n",
       "            });\n",
       "          </script>\n",
       "          "
      ],
      "text/plain": [
       "<IPython.core.display.HTML object>"
      ]
     },
     "metadata": {},
     "output_type": "display_data"
    },
    {
     "data": {
      "image/png": "[encoded data removed]",
      "text/plain": [
       "<matplotlib.figure.Figure at 0x7f855edc1e10>"
      ]
     },
     "metadata": {},
     "output_type": "display_data"
    }
   ],
   "source": [
    "ml.ConfusionMatrix.from_csv(\n",
    "  input_csv='./{}/evalme/predict_results_eval.csv'.format(WORKING_FOLDER),\n",
    "  schema_file='./{}/evalme/predict_results_schema.json'.format(WORKING_FOLDER)\n",
    ").plot()"
   ]
  },
  {
   "cell_type": "markdown",
   "metadata": {},
   "source": [
    "We see on this confusion matrix that the predictions are not too bad, the good ones being on the diagonale. Results might improve by doing extra prepration steps such as:\n",
    "- Feature crossing\n",
    "- Correlation analysis\n",
    "- Normalization"
   ]
  },
  {
   "cell_type": "markdown",
   "metadata": {},
   "source": [
    "# 7 of 7  - Deploy the Model"
   ]
  },
  {
   "cell_type": "code",
   "execution_count": null,
   "metadata": {
    "collapsed": true
   },
   "outputs": [],
   "source": [
    "model_name = 'mdl_helpdesk_priority'\n",
    "model_version = 'v1'\n",
    "\n",
    "storage_bucket = 'gs://' + google.datalab.Context.default().project_id + '-datalab-workspace/'\n",
    "storage_region = 'us-central1'"
   ]
  },
  {
   "cell_type": "code",
   "execution_count": null,
   "metadata": {
    "collapsed": true
   },
   "outputs": [],
   "source": [
    "# Check that we have the model files created by the training\n",
    "!ls -R train/model"
   ]
  },
  {
   "cell_type": "code",
   "execution_count": null,
   "metadata": {
    "collapsed": true
   },
   "outputs": [],
   "source": [
    "# Create a model\n",
    "!gcloud ml-engine models create {model_name} --regions {storage_region}"
   ]
  },
  {
   "cell_type": "code",
   "execution_count": null,
   "metadata": {
    "collapsed": true
   },
   "outputs": [],
   "source": [
    "# Create a staging bucket required to write staging files\n",
    "# When creating a model from local files\n",
    "staging_bucket = 'gs://' + google.datalab.Context.default().project_id + '-dtlb-staging-resolution'\n",
    "!gsutil mb -c regional -l {storage_region} {staging_bucket}"
   ]
  },
  {
   "cell_type": "code",
   "execution_count": null,
   "metadata": {
    "collapsed": true
   },
   "outputs": [],
   "source": [
    "# Create our version of the model.\n",
    "!gcloud ml-engine versions create {model_version} --model {model_name} --origin train/model --staging-bucket {staging_bucket}"
   ]
  },
  {
   "cell_type": "markdown",
   "metadata": {},
   "source": [
    "That version that is deployed is the one that you will be able to update automatically in a production environment if you need to update your model daily/weekly/monthly for example"
   ]
  }
 ],
 "metadata": {
  "kernelspec": {
   "display_name": "Python 2",
   "language": "python",
   "name": "python2"
  },
  "language_info": {
   "codemirror_mode": {
    "name": "ipython",
    "version": 2
   },
   "file_extension": ".py",
   "mimetype": "text/x-python",
   "name": "python",
   "nbconvert_exporter": "python",
   "pygments_lexer": "ipython2",
   "version": "2.7.12"
  }
 },
 "nbformat": 4,
 "nbformat_minor": 2
}
